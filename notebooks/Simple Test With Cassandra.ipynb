{
 "cells": [
  {
   "cell_type": "code",
   "execution_count": 1,
   "id": "9f9ea241",
   "metadata": {},
   "outputs": [],
   "source": [
    "from backend.db.cassandra_db import get_session"
   ]
  },
  {
   "cell_type": "code",
   "execution_count": 2,
   "id": "6d811e27",
   "metadata": {},
   "outputs": [],
   "source": [
    "session = get_session()"
   ]
  },
  {
   "cell_type": "code",
   "execution_count": 3,
   "id": "fd3c893d",
   "metadata": {},
   "outputs": [],
   "source": [
    "from posts.models import Post"
   ]
  },
  {
   "cell_type": "code",
   "execution_count": 4,
   "id": "c4f1ed20",
   "metadata": {},
   "outputs": [
    {
     "data": {
      "text/plain": [
       "Post(id=UUID('25027569-326e-40eb-b9ff-f8c0437b11f1'), title='Python', body=None, created_at=None, updated_at=None)"
      ]
     },
     "execution_count": 4,
     "metadata": {},
     "output_type": "execute_result"
    }
   ],
   "source": [
    "obj = Post(title=\"Python\")\n",
    "obj.save()"
   ]
  },
  {
   "cell_type": "code",
   "execution_count": 5,
   "id": "6301d259",
   "metadata": {},
   "outputs": [
    {
     "data": {
      "text/plain": [
       "[Post(id=UUID('25027569-326e-40eb-b9ff-f8c0437b11f1'), title='Python', body=None, created_at=None, updated_at=None),\n",
       " Post(id=UUID('011eda2d-e886-4104-a56c-f15bc4efd5a5'), title='awesome', body='Nice', created_at=None, updated_at=None)]"
      ]
     },
     "execution_count": 5,
     "metadata": {},
     "output_type": "execute_result"
    }
   ],
   "source": [
    "list_list(Post.objects.all())"
   ]
  },
  {
   "cell_type": "code",
   "execution_count": null,
   "id": "6c7af0ff",
   "metadata": {},
   "outputs": [],
   "source": []
  }
 ],
 "metadata": {
  "kernelspec": {
   "display_name": "Django Shell-Plus",
   "language": "python",
   "name": "django_extensions"
  },
  "language_info": {
   "codemirror_mode": {
    "name": "ipython",
    "version": 3
   },
   "file_extension": ".py",
   "mimetype": "text/x-python",
   "name": "python",
   "nbconvert_exporter": "python",
   "pygments_lexer": "ipython3",
   "version": "3.9.14"
  }
 },
 "nbformat": 4,
 "nbformat_minor": 5
}
